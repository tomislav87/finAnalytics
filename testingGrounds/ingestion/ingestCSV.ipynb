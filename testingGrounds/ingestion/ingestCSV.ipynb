{
 "cells": [
  {
   "cell_type": "markdown",
   "metadata": {},
   "source": [
    "This file is for development for testing code for the development of an Data Ingestion Pipeline.\n",
    "\n",
    "Starting from basics... CSV"
   ]
  },
  {
   "cell_type": "code",
   "execution_count": 148,
   "metadata": {
    "collapsed": true
   },
   "outputs": [],
   "source": [
    "#imports\n",
    "%matplotlib inline\n",
    "import csv\n",
    "import os\n",
    "import requests\n",
    "import pandas as pd\n",
    "import numpy as np\n",
    "import glob\n",
    "import math"
   ]
  },
  {
   "cell_type": "code",
   "execution_count": 1,
   "metadata": {
    "collapsed": false
   },
   "outputs": [
    {
     "name": "stdout",
     "output_type": "stream",
     "text": [
      "<_csv.reader object at 0x7f4b8e593130>\n"
     ]
    }
   ],
   "source": [
    "#Basic but works, could write an array filling application that fits into the for loop.\n",
    "\n",
    "with open('20160701.txt', 'rb') as csvfile:\n",
    "    asxTest = csv.reader(csvfile, delimiter=',')\n",
    "    for row in asxTest:\n",
    "        i = 1\n",
    "        \n",
    "        print ' '.join(row)\n",
    "        \n",
    "        if i >= 6:\n",
    "            print '\\n'\n",
    "            i = 1\n",
    "        i += 1\n",
    "        "
   ]
  },
  {
   "cell_type": "markdown",
   "metadata": {},
   "source": [
    "Thanks to contributions from AWAK, shall use pandas to import the data as that seems pretty fricken easy.\n",
    "\n",
    "Next step is to create a company object in python, then ingest multiple days data to build a histogram from the company object.\n",
    "\n"
   ]
  },
  {
   "cell_type": "code",
   "execution_count": 2,
   "metadata": {
    "collapsed": false
   },
   "outputs": [],
   "source": [
    "#Define company object \n",
    "#Note - if multiple constructors are required look up @classmethod\n",
    "\n",
    "#import dependencies\n",
    "\n",
    "import numpy as np\n",
    "import pandas as pd\n",
    "\n",
    "class asxCompany:\n",
    "    #class variables and objects\n",
    "    #code = ''        ASX Code for Company\n",
    "    #name = ''        Name of Company\n",
    "    #ind = ''         Industry Group of Company\n",
    "    #data = np array  Historic Data\n",
    "    \n",
    "    def __init__(self,code,data):\n",
    "        self.code = code\n",
    "        self.data = data\n",
    "    \n",
    "    \n",
    "    \n",
    "\n",
    "\n",
    "    "
   ]
  },
  {
   "cell_type": "code",
   "execution_count": 17,
   "metadata": {
    "collapsed": false
   },
   "outputs": [],
   "source": [
    "stocks = pd.read_csv('20160701.txt',sep=',',header=None)\n",
    "stocks.columns = ['code', 'date', 'open', 'low', 'high', 'close', 'volume']\n",
    "\n",
    "ASX_1AG = asxCompany(stocks.loc[0,'code'], pd.DataFrame(stocks[:1]))\n",
    "    "
   ]
  },
  {
   "cell_type": "code",
   "execution_count": 20,
   "metadata": {
    "collapsed": false
   },
   "outputs": [
    {
     "name": "stdout",
     "output_type": "stream",
     "text": [
      "1AG\n",
      "  code      date   open    low   high  close  volume\n",
      "0  1AG  20160701  0.054  0.054  0.054  0.054   20000\n"
     ]
    },
    {
     "data": {
      "text/plain": [
       "instance"
      ]
     },
     "execution_count": 20,
     "metadata": {},
     "output_type": "execute_result"
    }
   ],
   "source": [
    "print ASX_1AG.code\n",
    "print ASX_1AG.data\n"
   ]
  },
  {
   "cell_type": "code",
   "execution_count": 60,
   "metadata": {
    "collapsed": true
   },
   "outputs": [],
   "source": [
    "#Snippets  \n",
    "#class methods\n",
    "#def sumTest(self):#need to include 'self' as the first reference in a class method, this \n",
    "                      #provides the method with access to the local class attributes\n",
    "#        a = self.x + self.y\n",
    "#       return a\n"
   ]
  },
  {
   "cell_type": "markdown",
   "metadata": {},
   "source": [
    "# Working Code!\n",
    "##This shit works!"
   ]
  },
  {
   "cell_type": "code",
   "execution_count": 137,
   "metadata": {
    "collapsed": false
   },
   "outputs": [],
   "source": [
    "#This appends all files with .txt extention to a dataframe\n",
    "\n",
    "path = \"/home/tom/finAnalytics/finAnalytics/testingGrounds/ingestion/dataAll/\"\n",
    "files = glob.glob(os.path.join(path,\"*.txt\"))\n",
    "\n",
    "dataList = []\n",
    "for dataFile in files:\n",
    "    df = pd.read_csv(dataFile,sep=',',header=None)\n",
    "    dataList.append(df)\n",
    "data = pd.concat(dataList)\n",
    "data.columns = ['code', 'date', 'open', 'low', 'high', 'close', 'volume'] #labels columns\n",
    "data = data.sort_values(by='date', ascending=True) #sorts data in ascending order based on date column"
   ]
  },
  {
   "cell_type": "code",
   "execution_count": 182,
   "metadata": {
    "collapsed": false
   },
   "outputs": [],
   "source": [
    "#Some functions for basic analysis\n",
    "\n",
    "#returns a dataframe with a single company time series\n",
    "def companyTimeSeries(asxCode, asxData):\n",
    "    timeSeries = asxData.loc[asxData['code'] == asxCode]\n",
    "    return timeSeries\n",
    "\n",
    "#plots a company's time series\n",
    "def plotCompanyTimeSeries(asxCode, asxData):\n",
    "    timeSeries = asxData.loc[asxData['code'] == asxCode]\n",
    "    timeSeries.plot(x='date', y='close')\n",
    "    return\n",
    "\n",
    "#plots a company's time series, and 3-day moving average\n",
    "def plotCTSAverage(asxCode, asxData, aveInterval):\n",
    "    timeSeries = asxData.loc[asxData['code'] == asxCode]\n",
    "    timeSeries = timeSeries.reset_index(drop=True)\n",
    "    timeSeries['average'] = np.nan\n",
    "    sLength = len(timeSeries['date'])\n",
    "    \n",
    "    #need to do some checks based on the aveInterval \n",
    "    if (aveInterval % 2) > 0: #if it is odd\n",
    "        upper = int(math.ceil(aveInterval * .5))\n",
    "        lower = int(math.floor(aveInterval * .5))\n",
    "    else: #if it is even\n",
    "        upper = int(aveInterval / 2)\n",
    "        lower = int(aveInterval / 2 - 1)\n",
    "    \n",
    "    #need to check if there is enough data to do average calc\n",
    "    if aveInterval > sLength:\n",
    "        print \"Chosen interval exceeds length: \", sLength\n",
    "        return\n",
    "\n",
    "    for i in range(lower, sLength - upper): #there has to be a smart way here to choose where to start the iteration based on average interval chosen\n",
    "        if i >= sLength - upper:\n",
    "            break\n",
    "        for j in range(0, aveInterval - 1):\n",
    "            averages = np.zeros(aveInterval)\n",
    "            averages[j] = timeSeries.iloc[i - lower + j]['close']\n",
    "        \n",
    "        timeSeries.ix[i, 'average'] = averages.mean()\n",
    "        #a1 = timeSeries.iloc[i-1]['close']\n",
    "        #a2 = timeSeries.iloc[i]['close']\n",
    "        #a3 = timeSeries.iloc[i+1]['close']\n",
    "        #ave = (a1+a2+a3)/3\n",
    "        #timeSeries.ix[i, 'average'] = ave\n",
    "        #print ave\n",
    "    \n",
    "    timeSeries.plot(x='date', y='average')\n",
    "    #print timeSeries[['date','average']]\n",
    "    \n",
    "        \n",
    "        "
   ]
  },
  {
   "cell_type": "code",
   "execution_count": 166,
   "metadata": {
    "collapsed": false
   },
   "outputs": [
    {
     "name": "stdout",
     "output_type": "stream",
     "text": [
      "[ 0.  0.  0.  0.  0.]\n",
      "[ 0.  0.  0.  2.  0.] 0.0\n"
     ]
    }
   ],
   "source": [
    "a = np.zeros([5])\n",
    "print a\n",
    "a[3] = 2\n",
    "print a, a[0]"
   ]
  },
  {
   "cell_type": "code",
   "execution_count": 185,
   "metadata": {
    "collapsed": false
   },
   "outputs": [
    {
     "data": {
      "image/png": "[encoded data removed]",
      "text/plain": [
       "<matplotlib.figure.Figure at 0x7f3b10188790>"
      ]
     },
     "metadata": {},
     "output_type": "display_data"
    },
    {
     "data": {
      "image/png": "[encoded data removed]",
      "text/plain": [
       "<matplotlib.figure.Figure at 0x7f3b10860d10>"
      ]
     },
     "metadata": {},
     "output_type": "display_data"
    },
    {
     "data": {
      "image/png": "[encoded data removed]",
      "text/plain": [
       "<matplotlib.figure.Figure at 0x7f3b10dcc550>"
      ]
     },
     "metadata": {},
     "output_type": "display_data"
    }
   ],
   "source": [
    "plotCompanyTimeSeries('BHP',data)\n",
    "plotCTSAverage('BHP',data, 3)\n",
    "plotCTSAverage('BHP',data, 9)"
   ]
  },
  {
   "cell_type": "code",
   "execution_count": 20,
   "metadata": {
    "collapsed": false
   },
   "outputs": [],
   "source": [
    "codes = data['code'].unique() #lists all unique ASX codes in data table\n",
    "\n"
   ]
  },
  {
   "cell_type": "code",
   "execution_count": 27,
   "metadata": {
    "collapsed": false
   },
   "outputs": [
    {
     "name": "stdout",
     "output_type": "stream",
     "text": [
      "    code      date   open     low   high  close    volume\n",
      "195  BHP  20160701  19.02  19.350  18.99  19.09  13975365\n",
      "206  BHP  20160704  19.08  19.575  19.07  19.53   9667123\n",
      "206  BHP  20160705  19.57  19.640  19.43  19.45  12696503\n",
      "207  BHP  20160706  18.70  18.790  18.57  18.71  11162087\n",
      "200  BHP  20160707  19.09  19.300  18.99  19.08   8829446\n",
      "204  BHP  20160708  18.67  19.170  18.60  19.05   8441527\n",
      "212  BHP  20160711  19.40  19.600  19.38  19.60   7153845\n",
      "214  BHP  20160712  19.79  20.090  19.76  19.93  11299205\n",
      "202  BHP  20160713  20.35  20.620  20.22  20.58   9932227\n",
      "203  BHP  20160714  20.50  20.500  20.11  20.34   8583966\n",
      "214  BHP  20160715  20.25  20.530  20.22  20.37   6503902\n",
      "214  BHP  20160718  20.20  20.290  20.10  20.22   9240195\n",
      "212  BHP  20160719  19.92  20.200  19.81  19.83   9095999\n",
      "207  BHP  20160720  19.02  19.330  19.01  19.25  16121968\n",
      "210  BHP  20160721  19.10  19.380  19.07  19.26  12628073\n",
      "212  BHP  20160722  19.32  19.570  19.24  19.30   6721896\n",
      "215  BHP  20160725  19.25  19.270  19.07  19.24   5791866\n",
      "197  BHP  20160726  18.96  19.270  18.88  19.26   8470778\n",
      "212  BHP  20160727  19.80  20.080  19.73  19.86  15795995\n",
      "216  BHP  20160728  19.86  20.240  19.72  19.97   9329496\n",
      "216  BHP  20160729  19.79  19.990  19.52  19.52  17386078\n"
     ]
    }
   ],
   "source": [
    "compData = data.loc[data['code'] == 'BHP']# This query returns all rows from the dataframe that has the \n",
    "                                # ASX code '1AG'\n",
    "print compData    \n"
   ]
  },
  {
   "cell_type": "code",
   "execution_count": 28,
   "metadata": {
    "collapsed": false
   },
   "outputs": [
    {
     "data": {
      "text/plain": [
       "<matplotlib.axes._subplots.AxesSubplot at 0x7f3b13521f50>"
      ]
     },
     "execution_count": 28,
     "metadata": {},
     "output_type": "execute_result"
    },
    {
     "data": {
      "image/png": "[encoded data removed]",
      "text/plain": [
       "<matplotlib.figure.Figure at 0x7f3b13572f50>"
      ]
     },
     "metadata": {},
     "output_type": "display_data"
    }
   ],
   "source": [
    "compData.plot(x='date',y='close') #matplotlib accepts column headings as kwargs!!!!! makes plotting fricking simple"
   ]
  },
  {
   "cell_type": "code",
   "execution_count": 35,
   "metadata": {
    "collapsed": false
   },
   "outputs": [
    {
     "data": {
      "image/png": "[encoded data removed]",
      "text/plain": [
       "<matplotlib.figure.Figure at 0x7f3b11358350>"
      ]
     },
     "metadata": {},
     "output_type": "display_data"
    }
   ],
   "source": [
    "fff = plotCompanyTimeSeries('BHP', data)"
   ]
  }
 ],
 "metadata": {
  "kernelspec": {
   "display_name": "Python 2",
   "language": "python",
   "name": "python2"
  },
  "language_info": {
   "codemirror_mode": {
    "name": "ipython",
    "version": 2
   },
   "file_extension": ".py",
   "mimetype": "text/x-python",
   "name": "python",
   "nbconvert_exporter": "python",
   "pygments_lexer": "ipython2",
   "version": "2.7.10"
  }
 },
 "nbformat": 4,
 "nbformat_minor": 0
}
